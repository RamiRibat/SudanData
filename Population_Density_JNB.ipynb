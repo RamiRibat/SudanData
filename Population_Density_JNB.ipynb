{
 "cells": [
  {
   "cell_type": "markdown",
   "metadata": {},
   "source": [
    "# Sudan, South Sudan Population"
   ]
  },
  {
   "cell_type": "markdown",
   "metadata": {},
   "source": [
    "## Info"
   ]
  },
  {
   "cell_type": "markdown",
   "metadata": {},
   "source": [
    "Baylasan Innovation, Sudan,\n",
    "\n",
    "مخيم الوهمة,\n",
    "\n",
    "Author(s): Rami Ahmed (KPI)"
   ]
  },
  {
   "cell_type": "markdown",
   "metadata": {},
   "source": [
    "## Imports"
   ]
  },
  {
   "cell_type": "code",
   "execution_count": 1,
   "metadata": {},
   "outputs": [],
   "source": [
    "import json\n",
    "import numpy as np\n",
    "import pandas as pd\n",
    "import plotly.express as px"
   ]
  },
  {
   "cell_type": "markdown",
   "metadata": {},
   "source": [
    "### Open plot in another tab"
   ]
  },
  {
   "cell_type": "code",
   "execution_count": 2,
   "metadata": {},
   "outputs": [],
   "source": [
    "import plotly.io as pio\n",
    "pio.renderers.default = 'firefox'"
   ]
  },
  {
   "cell_type": "markdown",
   "metadata": {},
   "source": [
    "## Load Geo Data"
   ]
  },
  {
   "cell_type": "code",
   "execution_count": 3,
   "metadata": {},
   "outputs": [],
   "source": [
    "sudan = json.load(open(\"SD_SSD_States.geojson\", \"r\"))"
   ]
  },
  {
   "cell_type": "code",
   "execution_count": 4,
   "metadata": {},
   "outputs": [],
   "source": [
    "state_id_map = {}\n",
    "for feature in sudan[\"features\"]:\n",
    "    feature[\"id\"] = feature[\"properties\"][\"StateNameAr\"]\n",
    "    state_id_map[feature[\"properties\"][\"StateID\"]] = feature[\"id\"]"
   ]
  },
  {
   "cell_type": "markdown",
   "metadata": {},
   "source": [
    "## Load Data"
   ]
  },
  {
   "cell_type": "code",
   "execution_count": 5,
   "metadata": {},
   "outputs": [],
   "source": [
    "GSID = '194VpZ8__NMRIyNGLRzN5css4xvSRYMfq6bv_JpblrEw'\n",
    "WSN = 'Data'\n",
    "URL = f\"https://docs.google.com/spreadsheets/d/{GSID}/gviz/tq?tqx=out:csv&sheet={WSN}\""
   ]
  },
  {
   "cell_type": "code",
   "execution_count": 6,
   "metadata": {},
   "outputs": [],
   "source": [
    "df = pd.read_csv(URL)"
   ]
  },
  {
   "cell_type": "code",
   "execution_count": 7,
   "metadata": {},
   "outputs": [],
   "source": [
    "df[\"Density\"] = df[\"Desity (ppkm²)\"]"
   ]
  },
  {
   "cell_type": "code",
   "execution_count": 8,
   "metadata": {},
   "outputs": [],
   "source": [
    "df[\"Density Log Scale\"] = np.round(np.log10(df[\"Density\"]), 2)"
   ]
  },
  {
   "cell_type": "code",
   "execution_count": 9,
   "metadata": {},
   "outputs": [],
   "source": [
    "df[\"ID\"] = df[\"State Name Ar\"][:].apply(lambda x: list(state_id_map.keys())[list(state_id_map.values()).index(x)])"
   ]
  },
  {
   "cell_type": "markdown",
   "metadata": {},
   "source": [
    "### Create Separate Data for Sudan/South Sudan"
   ]
  },
  {
   "cell_type": "code",
   "execution_count": 10,
   "metadata": {},
   "outputs": [],
   "source": [
    "dfsd = df.copy()"
   ]
  },
  {
   "cell_type": "code",
   "execution_count": 11,
   "metadata": {},
   "outputs": [
    {
     "data": {
      "text/plain": [
       "False"
      ]
     },
     "execution_count": 11,
     "metadata": {},
     "output_type": "execute_result"
    }
   ],
   "source": [
    "df[1:2]['ID'][1].startswith('SS')"
   ]
  },
  {
   "cell_type": "code",
   "execution_count": 12,
   "metadata": {},
   "outputs": [
    {
     "name": "stderr",
     "output_type": "stream",
     "text": [
      "/home/sketcher/anaconda3/envs/baylasan/lib/python3.7/site-packages/ipykernel_launcher.py:4: SettingWithCopyWarning:\n",
      "\n",
      "\n",
      "A value is trying to be set on a copy of a slice from a DataFrame\n",
      "\n",
      "See the caveats in the documentation: http://pandas.pydata.org/pandas-docs/stable/indexing.html#indexing-view-versus-copy\n",
      "\n"
     ]
    }
   ],
   "source": [
    "# Clear South Sudan's ID's:\n",
    "for i in range(0,len(df)):\n",
    "    if df[i:i+1]['ID'][i].startswith('SS'):\n",
    "        dfsd[\"State Name Ar\"][i:i+1] = ''"
   ]
  },
  {
   "cell_type": "code",
   "execution_count": 13,
   "metadata": {},
   "outputs": [],
   "source": [
    "dfss = df.copy()"
   ]
  },
  {
   "cell_type": "code",
   "execution_count": 14,
   "metadata": {},
   "outputs": [
    {
     "name": "stderr",
     "output_type": "stream",
     "text": [
      "/home/sketcher/anaconda3/envs/baylasan/lib/python3.7/site-packages/ipykernel_launcher.py:4: SettingWithCopyWarning:\n",
      "\n",
      "\n",
      "A value is trying to be set on a copy of a slice from a DataFrame\n",
      "\n",
      "See the caveats in the documentation: http://pandas.pydata.org/pandas-docs/stable/indexing.html#indexing-view-versus-copy\n",
      "\n"
     ]
    }
   ],
   "source": [
    "# Clear Sudan's ID's:\n",
    "for i in range(0,len(df)):\n",
    "    if df[i:i+1]['ID'][i].startswith('SS') is False:\n",
    "        dfss[\"State Name Ar\"][i:i+1] = ''"
   ]
  },
  {
   "cell_type": "markdown",
   "metadata": {},
   "source": [
    "### Plots"
   ]
  },
  {
   "cell_type": "code",
   "execution_count": 15,
   "metadata": {},
   "outputs": [],
   "source": [
    "# df[\"Density\"].plot()"
   ]
  },
  {
   "cell_type": "code",
   "execution_count": 16,
   "metadata": {},
   "outputs": [],
   "source": [
    "# df[\"Density Log Scale\"].plot()"
   ]
  },
  {
   "cell_type": "markdown",
   "metadata": {},
   "source": [
    "### Plot Chronopleth Map"
   ]
  },
  {
   "cell_type": "code",
   "execution_count": 127,
   "metadata": {},
   "outputs": [],
   "source": [
    "######################\n",
    "fig = px.choropleth(\n",
    "    dfsd,\n",
    "    locations=\"State Name Ar\",\n",
    "    geojson=sudan,\n",
    "    color=\"Density Log Scale\",\n",
    "    title=\"Sudan/South sudan Population Density\",\n",
    ").update_geos(fitbounds=\"locations\", visible=False).update_traces(hovertemplate=None).update_layout(\n",
    "legend=dict(orientation='h'), \n",
    "# font={\"color\": \"rgb(64,64,64)\",\n",
    "#       \"family\": \"Times New Roman\",\n",
    "#       \"size\": 20\n",
    "#      },\n",
    "titlefont={\"color\": \"rgb(64,64,64)\",\n",
    "           \"family\": \"Times New Roman\",\n",
    "           \"size\": 40})\n",
    "\n",
    "fig.show()\n",
    "######################"
   ]
  },
  {
   "cell_type": "code",
   "execution_count": 120,
   "metadata": {},
   "outputs": [],
   "source": [
    "trace=dict(type='choropleth', showscale=False)\n",
    "fig.update_traces(trace)"
   ]
  },
  {
   "cell_type": "markdown",
   "metadata": {},
   "source": [
    "#### Add South Sudan"
   ]
  },
  {
   "cell_type": "code",
   "execution_count": 20,
   "metadata": {},
   "outputs": [],
   "source": [
    "fig.add_choropleth(\n",
    "    autocolorscale=True,\n",
    "    z=dfss[\"Density Log Scale\"],\n",
    "    locations=dfss[\"State Name Ar\"],\n",
    "    locationmode='geojson-id',\n",
    "    geojson=sudan,\n",
    "    showscale=False,\n",
    "    marker=dict(opacity=0.5),\n",
    "    hoverinfo='location+z'\n",
    ").update_traces(name='')"
   ]
  },
  {
   "cell_type": "code",
   "execution_count": null,
   "metadata": {},
   "outputs": [],
   "source": []
  }
 ],
 "metadata": {
  "kernelspec": {
   "display_name": "Python 3",
   "language": "python",
   "name": "python3"
  },
  "language_info": {
   "codemirror_mode": {
    "name": "ipython",
    "version": 3
   },
   "file_extension": ".py",
   "mimetype": "text/x-python",
   "name": "python",
   "nbconvert_exporter": "python",
   "pygments_lexer": "ipython3",
   "version": "3.7.5"
  }
 },
 "nbformat": 4,
 "nbformat_minor": 4
}
