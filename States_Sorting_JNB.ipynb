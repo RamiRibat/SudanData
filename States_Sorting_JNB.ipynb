{
 "cells": [
  {
   "cell_type": "markdown",
   "metadata": {},
   "source": [
    "# Sudan States, South Sudan States Sorting"
   ]
  },
  {
   "cell_type": "markdown",
   "metadata": {},
   "source": [
    "Baylasan Innovation, Sudan,\n",
    "\n",
    "مخيم الوهمة,\n",
    "\n",
    "Author(s): Rami Ahmed (KPI)"
   ]
  },
  {
   "cell_type": "markdown",
   "metadata": {},
   "source": [
    "## Imports"
   ]
  },
  {
   "cell_type": "code",
   "execution_count": 1,
   "metadata": {},
   "outputs": [],
   "source": [
    "import json\n",
    "import numpy as np\n",
    "import pandas as pd\n",
    "import plotly.express as px"
   ]
  },
  {
   "cell_type": "code",
   "execution_count": 2,
   "metadata": {},
   "outputs": [],
   "source": [
    "import plotly.graph_objects as go"
   ]
  },
  {
   "cell_type": "markdown",
   "metadata": {},
   "source": [
    "### Open plot in another tab"
   ]
  },
  {
   "cell_type": "code",
   "execution_count": 3,
   "metadata": {},
   "outputs": [],
   "source": [
    "import plotly.io as pio\n",
    "pio.renderers.default = 'firefox'"
   ]
  },
  {
   "cell_type": "markdown",
   "metadata": {},
   "source": [
    "## Load Geo Data"
   ]
  },
  {
   "cell_type": "code",
   "execution_count": 4,
   "metadata": {},
   "outputs": [],
   "source": [
    "sudan = json.load(open(\"SD_SSD_States.geojson\", \"r\"))"
   ]
  },
  {
   "cell_type": "code",
   "execution_count": 5,
   "metadata": {},
   "outputs": [],
   "source": [
    "state_id_map = {}\n",
    "for feature in sudan[\"features\"]:\n",
    "    feature[\"id\"] = feature[\"properties\"][\"StateNameAr\"]\n",
    "    state_id_map[feature[\"properties\"][\"StateID\"]] = feature[\"id\"]"
   ]
  },
  {
   "cell_type": "markdown",
   "metadata": {},
   "source": [
    "## Load Data"
   ]
  },
  {
   "cell_type": "markdown",
   "metadata": {},
   "source": [
    "### Static Data"
   ]
  },
  {
   "cell_type": "code",
   "execution_count": 6,
   "metadata": {},
   "outputs": [],
   "source": [
    "GSID = '13ot0rYLxegd-JxNBXjcF1obxwPzhl99sKSGICJpINiY'\n",
    "WSN = 'StatesPoints'\n",
    "URL = f'https://docs.google.com/spreadsheets/d/{GSID}/gviz/tq?tqx=out:csv&sheet={WSN}'"
   ]
  },
  {
   "cell_type": "code",
   "execution_count": 7,
   "metadata": {},
   "outputs": [],
   "source": [
    "df = pd.read_csv(URL)"
   ]
  },
  {
   "cell_type": "markdown",
   "metadata": {},
   "source": [
    "### Animated Data"
   ]
  },
  {
   "cell_type": "code",
   "execution_count": null,
   "metadata": {},
   "outputs": [],
   "source": [
    "GSID = '13ot0rYLxegd-JxNBXjcF1obxwPzhl99sKSGICJpINiY'\n",
    "WSN = 'StatesPointsTime'\n",
    "URL = f'https://docs.google.com/spreadsheets/d/{GSID}/gviz/tq?tqx=out:csv&sheet={WSN}'"
   ]
  },
  {
   "cell_type": "code",
   "execution_count": null,
   "metadata": {},
   "outputs": [],
   "source": [
    "df = pd.read_csv(URL)"
   ]
  },
  {
   "cell_type": "markdown",
   "metadata": {},
   "source": [
    "### Attatch an ID Column from 'geojson file' Into the DF w/ State's Name"
   ]
  },
  {
   "cell_type": "code",
   "execution_count": 8,
   "metadata": {},
   "outputs": [],
   "source": [
    "df['ID'] = df[\"الولاية\"].apply(lambda x: list(state_id_map.keys())[list(state_id_map.values()).index(x)])"
   ]
  },
  {
   "cell_type": "markdown",
   "metadata": {},
   "source": [
    "### Create Separate Data for Sudan/South Sudan"
   ]
  },
  {
   "cell_type": "code",
   "execution_count": 9,
   "metadata": {},
   "outputs": [],
   "source": [
    "dfsd = df.copy()"
   ]
  },
  {
   "cell_type": "code",
   "execution_count": 10,
   "metadata": {
    "scrolled": true
   },
   "outputs": [
    {
     "name": "stderr",
     "output_type": "stream",
     "text": [
      "/home/sketcher/anaconda3/envs/baylasan/lib/python3.7/site-packages/ipykernel_launcher.py:4: SettingWithCopyWarning:\n",
      "\n",
      "\n",
      "A value is trying to be set on a copy of a slice from a DataFrame\n",
      "\n",
      "See the caveats in the documentation: http://pandas.pydata.org/pandas-docs/stable/indexing.html#indexing-view-versus-copy\n",
      "\n"
     ]
    }
   ],
   "source": [
    "# Clear South Sudan's ID's:\n",
    "for i in range(0,len(df)):\n",
    "    if df[i:i+1]['ID'][i].startswith('SS'):\n",
    "        dfsd['الولاية'][i:i+1] = ''"
   ]
  },
  {
   "cell_type": "code",
   "execution_count": 11,
   "metadata": {},
   "outputs": [],
   "source": [
    "dfss = df.copy()"
   ]
  },
  {
   "cell_type": "code",
   "execution_count": 12,
   "metadata": {},
   "outputs": [
    {
     "name": "stderr",
     "output_type": "stream",
     "text": [
      "/home/sketcher/anaconda3/envs/baylasan/lib/python3.7/site-packages/ipykernel_launcher.py:4: SettingWithCopyWarning:\n",
      "\n",
      "\n",
      "A value is trying to be set on a copy of a slice from a DataFrame\n",
      "\n",
      "See the caveats in the documentation: http://pandas.pydata.org/pandas-docs/stable/indexing.html#indexing-view-versus-copy\n",
      "\n"
     ]
    }
   ],
   "source": [
    "# Clear Sudan's ID's:\n",
    "for i in range(0,len(df)):\n",
    "    if df[i:i+1]['ID'][i].startswith('SS') is False:\n",
    "        dfss['الولاية'][i:i+1] = ''"
   ]
  },
  {
   "cell_type": "markdown",
   "metadata": {},
   "source": [
    "## Plotting"
   ]
  },
  {
   "cell_type": "markdown",
   "metadata": {},
   "source": [
    "### 2D Plots"
   ]
  },
  {
   "cell_type": "code",
   "execution_count": null,
   "metadata": {},
   "outputs": [],
   "source": [
    "# df[\"النقاط\"].plot()"
   ]
  },
  {
   "cell_type": "markdown",
   "metadata": {},
   "source": [
    "### Choropleth Plot"
   ]
  },
  {
   "cell_type": "markdown",
   "metadata": {},
   "source": [
    "#### Static"
   ]
  },
  {
   "cell_type": "markdown",
   "metadata": {},
   "source": [
    "##### Sudan"
   ]
  },
  {
   "cell_type": "code",
   "execution_count": 13,
   "metadata": {},
   "outputs": [],
   "source": [
    "######################\n",
    "fig = px.choropleth(\n",
    "    dfsd,\n",
    "    locations='الولاية', # From DF --> GeoJson id map\n",
    "    geojson=sudan,\n",
    "    color=\"النقاط\",\n",
    "    title=\"ترتيب الولايات حسب الجاهزية\",\n",
    "    color_continuous_scale=px.colors.diverging.RdYlGn,\n",
    ").update_geos(fitbounds=\"locations\", visible=False).update_traces(hovertemplate=None).update_layout(\n",
    "font={\"color\": \"rgb(64,64,64)\",\n",
    "      \"family\": \"Times New Roman\",\n",
    "      \"size\": 20},\n",
    "titlefont={\"color\": \"rgb(64,64,64)\",\n",
    "           \"family\": \"Times New Roman\",\n",
    "           \"size\": 40}\n",
    ")\n",
    "\n",
    "fig.show()\n",
    "######################"
   ]
  },
  {
   "cell_type": "code",
   "execution_count": 14,
   "metadata": {},
   "outputs": [],
   "source": [
    "# Create Data for Top 3 States\n",
    "dfsd_top = dfsd.copy()\n",
    "# Clear points less than top 3:\n",
    "for i in range(0,len(dfsd)):\n",
    "    if dfsd[i:i+1][\"النقاط\"][i] < dfsd.nlargest(3, \"النقاط\")[\"النقاط\"].min():\n",
    "        dfsd_top = dfsd_top.drop([i])"
   ]
  },
  {
   "cell_type": "code",
   "execution_count": 15,
   "metadata": {},
   "outputs": [],
   "source": [
    "dfsd_top = dfsd_top.sort_values('النقاط',ascending=False)"
   ]
  },
  {
   "cell_type": "code",
   "execution_count": 16,
   "metadata": {},
   "outputs": [],
   "source": [
    "# Star Top 3 States:\n",
    "fig.add_scattergeo(\n",
    "    locations=dfsd_top[\"الولاية\"],\n",
    "    geojson=sudan,\n",
    "    text=dfsd_top[\"الولاية\"],\n",
    "    textfont = {\"color\": \"rgb(32,32,32)\",\n",
    "                \"family\": \"Arial, Bold\",\n",
    "                \"size\": 20},\n",
    "    textposition=\"bottom center\",\n",
    "    marker= dict(size=[30,25,20],\n",
    "                 color=['Gold', 'Silver', 'Brown'],\n",
    "                 opacity=1,\n",
    "                 symbol='star'\n",
    "                ),\n",
    "    mode =\"markers+text\",\n",
    "    showlegend=False,\n",
    "    hoverinfo='skip'\n",
    ")"
   ]
  },
  {
   "cell_type": "markdown",
   "metadata": {},
   "source": [
    "##### Add South Sudan"
   ]
  },
  {
   "cell_type": "code",
   "execution_count": 17,
   "metadata": {},
   "outputs": [
    {
     "name": "stderr",
     "output_type": "stream",
     "text": [
      "/home/sketcher/anaconda3/envs/baylasan/lib/python3.7/site-packages/ipykernel_launcher.py:4: SettingWithCopyWarning:\n",
      "\n",
      "\n",
      "A value is trying to be set on a copy of a slice from a DataFrame\n",
      "\n",
      "See the caveats in the documentation: http://pandas.pydata.org/pandas-docs/stable/indexing.html#indexing-view-versus-copy\n",
      "\n"
     ]
    }
   ],
   "source": [
    "# Make South Sudan Points Nuetral\n",
    "for i in range(0,len(df)):\n",
    "    if dfss[i:i+1]['ID'][i].startswith('SS') is True:\n",
    "        dfss[\"النقاط\"][i:i+1] = (df[\"النقاط\"].min() + df[\"النقاط\"].max())/2"
   ]
  },
  {
   "cell_type": "code",
   "execution_count": 18,
   "metadata": {},
   "outputs": [],
   "source": [
    "fig.add_choropleth(\n",
    "    autocolorscale=False,\n",
    "    z=dfss[\"النقاط\"],\n",
    "    locations=dfss[\"الولاية\"],\n",
    "    locationmode='geojson-id',\n",
    "    geojson=sudan,\n",
    "    showscale=False,\n",
    "    marker=dict(opacity=0.5),\n",
    "    hoverinfo='location'\n",
    ").update_traces(name='')"
   ]
  },
  {
   "cell_type": "code",
   "execution_count": null,
   "metadata": {},
   "outputs": [],
   "source": [
    "fig.write_html(\"SD_SSD_States_Static.html\")"
   ]
  },
  {
   "cell_type": "markdown",
   "metadata": {},
   "source": [
    "#### Animation"
   ]
  },
  {
   "cell_type": "markdown",
   "metadata": {},
   "source": [
    "##### Sudan"
   ]
  },
  {
   "cell_type": "code",
   "execution_count": null,
   "metadata": {},
   "outputs": [],
   "source": [
    "######################\n",
    "fig = px.choropleth(\n",
    "    dfsd,\n",
    "    animation_frame='Time',\n",
    "    locations='الولاية',\n",
    "    geojson=sudan,\n",
    "    color=\"النقاط\",\n",
    "    title=\"ترتيب الولايات حسب الجاهزية\",\n",
    "    color_continuous_scale=px.colors.diverging.RdYlGn\n",
    ").update_geos(fitbounds=\"locations\", visible=False).update_traces(hovertemplate=None).update_layout(\n",
    "font={\"color\": \"rgb(64,64,64)\",\n",
    "      \"family\": \"Times New Roman\",\n",
    "      \"size\": 20},\n",
    "titlefont={\"color\": \"rgb(64,64,64)\",\n",
    "           \"family\": \"Times New Roman\",\n",
    "           \"size\": 40}\n",
    ")\n",
    "\n",
    "fig.show()\n",
    "######################"
   ]
  },
  {
   "cell_type": "markdown",
   "metadata": {},
   "source": [
    "##### Add South Sudan"
   ]
  },
  {
   "cell_type": "code",
   "execution_count": null,
   "metadata": {},
   "outputs": [],
   "source": [
    "# Make South Sudan Points Nuetral\n",
    "for i in range(0,len(df)):\n",
    "    if dfss[i:i+1]['ID'][i].startswith('SS') is True:\n",
    "        dfss[\"النقاط\"][i:i+1] = (df[\"النقاط\"].min() + df[\"النقاط\"].max())/2"
   ]
  },
  {
   "cell_type": "code",
   "execution_count": null,
   "metadata": {},
   "outputs": [],
   "source": [
    "fig.add_choropleth(\n",
    "    autocolorscale=False,\n",
    "    z=dfss[\"النقاط\"],\n",
    "    locations=dfss[\"الولاية\"],\n",
    "    locationmode='geojson-id',\n",
    "    geojson=sudan,\n",
    "    showscale=False,\n",
    "    marker=dict(opacity=0.5),\n",
    "    hoverinfo='location'\n",
    ").update_traces(name='')"
   ]
  },
  {
   "cell_type": "code",
   "execution_count": null,
   "metadata": {},
   "outputs": [],
   "source": [
    "fig.write_html(\"SD_SSD_States_Animation.html\")"
   ]
  },
  {
   "cell_type": "markdown",
   "metadata": {},
   "source": [
    "# --------------------------------------------------------------------------------------------------"
   ]
  }
 ],
 "metadata": {
  "kernelspec": {
   "display_name": "Python 3",
   "language": "python",
   "name": "python3"
  },
  "language_info": {
   "codemirror_mode": {
    "name": "ipython",
    "version": 3
   },
   "file_extension": ".py",
   "mimetype": "text/x-python",
   "name": "python",
   "nbconvert_exporter": "python",
   "pygments_lexer": "ipython3",
   "version": "3.7.5"
  }
 },
 "nbformat": 4,
 "nbformat_minor": 4
}
